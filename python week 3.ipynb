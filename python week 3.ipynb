{
 "cells": [
  {
   "cell_type": "code",
   "execution_count": 8,
   "id": "390229c5-e04e-4f2f-9093-2ff5b6c5b2e8",
   "metadata": {},
   "outputs": [
    {
     "data": {
      "text/html": [
       "<div>\n",
       "<style scoped>\n",
       "    .dataframe tbody tr th:only-of-type {\n",
       "        vertical-align: middle;\n",
       "    }\n",
       "\n",
       "    .dataframe tbody tr th {\n",
       "        vertical-align: top;\n",
       "    }\n",
       "\n",
       "    .dataframe thead th {\n",
       "        text-align: right;\n",
       "    }\n",
       "</style>\n",
       "<table border=\"1\" class=\"dataframe\">\n",
       "  <thead>\n",
       "    <tr style=\"text-align: right;\">\n",
       "      <th></th>\n",
       "      <th>Hello, Data Analysis!</th>\n",
       "    </tr>\n",
       "  </thead>\n",
       "  <tbody>\n",
       "  </tbody>\n",
       "</table>\n",
       "</div>"
      ],
      "text/plain": [
       "Empty DataFrame\n",
       "Columns: [Hello, Data Analysis!]\n",
       "Index: []"
      ]
     },
     "execution_count": 8,
     "metadata": {},
     "output_type": "execute_result"
    }
   ],
   "source": [
    " #Python script that opens a file in read mode and prints its contents\n",
    "\n",
    "import pandas as pd\n",
    "pd.read_table (r\"C:\\Users\\USER\\Documents\\joyouss.txt\")"
   ]
  },
  {
   "cell_type": "code",
   "execution_count": 9,
   "id": "183e621f-d3de-4f47-8337-23a55761c265",
   "metadata": {},
   "outputs": [
    {
     "name": "stdout",
     "output_type": "stream",
     "text": [
      "Written successfully\n"
     ]
    }
   ],
   "source": [
    "#Create a Python script that writes the string \"Hello, Data Analysis!\" to a new text file.\n",
    "\n",
    "with open ( r\"C:\\Users\\USER\\Documents\\joyouss.txt\" , 'w') as file:\n",
    "    file.write (\"Hello, Data Analysis!\")\n",
    "print ( \"Written successfully\")\n",
    "           "
   ]
  },
  {
   "cell_type": "code",
   "execution_count": 25,
   "id": "e989cb2d-a186-4286-8c22-8804239c1a0d",
   "metadata": {},
   "outputs": [
    {
     "data": {
      "text/html": [
       "<div>\n",
       "<style scoped>\n",
       "    .dataframe tbody tr th:only-of-type {\n",
       "        vertical-align: middle;\n",
       "    }\n",
       "\n",
       "    .dataframe tbody tr th {\n",
       "        vertical-align: top;\n",
       "    }\n",
       "\n",
       "    .dataframe thead th {\n",
       "        text-align: right;\n",
       "    }\n",
       "</style>\n",
       "<table border=\"1\" class=\"dataframe\">\n",
       "  <thead>\n",
       "    <tr style=\"text-align: right;\">\n",
       "      <th></th>\n",
       "      <th>pclass</th>\n",
       "      <th>survived</th>\n",
       "      <th>name</th>\n",
       "      <th>sex</th>\n",
       "      <th>age</th>\n",
       "      <th>sibsp</th>\n",
       "      <th>parch</th>\n",
       "      <th>ticket</th>\n",
       "      <th>fare</th>\n",
       "      <th>cabin</th>\n",
       "      <th>embarked</th>\n",
       "      <th>boat</th>\n",
       "      <th>body</th>\n",
       "      <th>home.dest</th>\n",
       "    </tr>\n",
       "  </thead>\n",
       "  <tbody>\n",
       "    <tr>\n",
       "      <th>0</th>\n",
       "      <td>1</td>\n",
       "      <td>1</td>\n",
       "      <td>Allen, Miss. Elisabeth Walton</td>\n",
       "      <td>female</td>\n",
       "      <td>29.0000</td>\n",
       "      <td>0</td>\n",
       "      <td>0</td>\n",
       "      <td>24160</td>\n",
       "      <td>211.3375</td>\n",
       "      <td>B5</td>\n",
       "      <td>S</td>\n",
       "      <td>2</td>\n",
       "      <td>NaN</td>\n",
       "      <td>St Louis, MO</td>\n",
       "    </tr>\n",
       "    <tr>\n",
       "      <th>1</th>\n",
       "      <td>1</td>\n",
       "      <td>1</td>\n",
       "      <td>Allison, Master. Hudson Trevor</td>\n",
       "      <td>male</td>\n",
       "      <td>0.9167</td>\n",
       "      <td>1</td>\n",
       "      <td>2</td>\n",
       "      <td>113781</td>\n",
       "      <td>151.5500</td>\n",
       "      <td>C22 C26</td>\n",
       "      <td>S</td>\n",
       "      <td>11</td>\n",
       "      <td>NaN</td>\n",
       "      <td>Montreal, PQ / Chesterville, ON</td>\n",
       "    </tr>\n",
       "    <tr>\n",
       "      <th>2</th>\n",
       "      <td>1</td>\n",
       "      <td>0</td>\n",
       "      <td>Allison, Miss. Helen Loraine</td>\n",
       "      <td>female</td>\n",
       "      <td>2.0000</td>\n",
       "      <td>1</td>\n",
       "      <td>2</td>\n",
       "      <td>113781</td>\n",
       "      <td>151.5500</td>\n",
       "      <td>C22 C26</td>\n",
       "      <td>S</td>\n",
       "      <td>NaN</td>\n",
       "      <td>NaN</td>\n",
       "      <td>Montreal, PQ / Chesterville, ON</td>\n",
       "    </tr>\n",
       "    <tr>\n",
       "      <th>3</th>\n",
       "      <td>1</td>\n",
       "      <td>0</td>\n",
       "      <td>Allison, Mr. Hudson Joshua Creighton</td>\n",
       "      <td>male</td>\n",
       "      <td>30.0000</td>\n",
       "      <td>1</td>\n",
       "      <td>2</td>\n",
       "      <td>113781</td>\n",
       "      <td>151.5500</td>\n",
       "      <td>C22 C26</td>\n",
       "      <td>S</td>\n",
       "      <td>NaN</td>\n",
       "      <td>135.0</td>\n",
       "      <td>Montreal, PQ / Chesterville, ON</td>\n",
       "    </tr>\n",
       "    <tr>\n",
       "      <th>4</th>\n",
       "      <td>1</td>\n",
       "      <td>0</td>\n",
       "      <td>Allison, Mrs. Hudson J C (Bessie Waldo Daniels)</td>\n",
       "      <td>female</td>\n",
       "      <td>25.0000</td>\n",
       "      <td>1</td>\n",
       "      <td>2</td>\n",
       "      <td>113781</td>\n",
       "      <td>151.5500</td>\n",
       "      <td>C22 C26</td>\n",
       "      <td>S</td>\n",
       "      <td>NaN</td>\n",
       "      <td>NaN</td>\n",
       "      <td>Montreal, PQ / Chesterville, ON</td>\n",
       "    </tr>\n",
       "    <tr>\n",
       "      <th>5</th>\n",
       "      <td>1</td>\n",
       "      <td>1</td>\n",
       "      <td>Anderson, Mr. Harry</td>\n",
       "      <td>male</td>\n",
       "      <td>48.0000</td>\n",
       "      <td>0</td>\n",
       "      <td>0</td>\n",
       "      <td>19952</td>\n",
       "      <td>26.5500</td>\n",
       "      <td>E12</td>\n",
       "      <td>S</td>\n",
       "      <td>3</td>\n",
       "      <td>NaN</td>\n",
       "      <td>New York, NY</td>\n",
       "    </tr>\n",
       "    <tr>\n",
       "      <th>6</th>\n",
       "      <td>1</td>\n",
       "      <td>1</td>\n",
       "      <td>Andrews, Miss. Kornelia Theodosia</td>\n",
       "      <td>female</td>\n",
       "      <td>63.0000</td>\n",
       "      <td>1</td>\n",
       "      <td>0</td>\n",
       "      <td>13502</td>\n",
       "      <td>77.9583</td>\n",
       "      <td>D7</td>\n",
       "      <td>S</td>\n",
       "      <td>10</td>\n",
       "      <td>NaN</td>\n",
       "      <td>Hudson, NY</td>\n",
       "    </tr>\n",
       "    <tr>\n",
       "      <th>7</th>\n",
       "      <td>1</td>\n",
       "      <td>0</td>\n",
       "      <td>Andrews, Mr. Thomas Jr</td>\n",
       "      <td>male</td>\n",
       "      <td>39.0000</td>\n",
       "      <td>0</td>\n",
       "      <td>0</td>\n",
       "      <td>112050</td>\n",
       "      <td>0.0000</td>\n",
       "      <td>A36</td>\n",
       "      <td>S</td>\n",
       "      <td>NaN</td>\n",
       "      <td>NaN</td>\n",
       "      <td>Belfast, NI</td>\n",
       "    </tr>\n",
       "    <tr>\n",
       "      <th>8</th>\n",
       "      <td>1</td>\n",
       "      <td>1</td>\n",
       "      <td>Appleton, Mrs. Edward Dale (Charlotte Lamson)</td>\n",
       "      <td>female</td>\n",
       "      <td>53.0000</td>\n",
       "      <td>2</td>\n",
       "      <td>0</td>\n",
       "      <td>11769</td>\n",
       "      <td>51.4792</td>\n",
       "      <td>C101</td>\n",
       "      <td>S</td>\n",
       "      <td>D</td>\n",
       "      <td>NaN</td>\n",
       "      <td>Bayside, Queens, NY</td>\n",
       "    </tr>\n",
       "    <tr>\n",
       "      <th>9</th>\n",
       "      <td>1</td>\n",
       "      <td>0</td>\n",
       "      <td>Artagaveytia, Mr. Ramon</td>\n",
       "      <td>male</td>\n",
       "      <td>71.0000</td>\n",
       "      <td>0</td>\n",
       "      <td>0</td>\n",
       "      <td>PC 17609</td>\n",
       "      <td>49.5042</td>\n",
       "      <td>NaN</td>\n",
       "      <td>C</td>\n",
       "      <td>NaN</td>\n",
       "      <td>22.0</td>\n",
       "      <td>Montevideo, Uruguay</td>\n",
       "    </tr>\n",
       "  </tbody>\n",
       "</table>\n",
       "</div>"
      ],
      "text/plain": [
       "   pclass  survived                                             name     sex  \\\n",
       "0       1         1                    Allen, Miss. Elisabeth Walton  female   \n",
       "1       1         1                   Allison, Master. Hudson Trevor    male   \n",
       "2       1         0                     Allison, Miss. Helen Loraine  female   \n",
       "3       1         0             Allison, Mr. Hudson Joshua Creighton    male   \n",
       "4       1         0  Allison, Mrs. Hudson J C (Bessie Waldo Daniels)  female   \n",
       "5       1         1                              Anderson, Mr. Harry    male   \n",
       "6       1         1                Andrews, Miss. Kornelia Theodosia  female   \n",
       "7       1         0                           Andrews, Mr. Thomas Jr    male   \n",
       "8       1         1    Appleton, Mrs. Edward Dale (Charlotte Lamson)  female   \n",
       "9       1         0                          Artagaveytia, Mr. Ramon    male   \n",
       "\n",
       "       age  sibsp  parch    ticket      fare    cabin embarked boat   body  \\\n",
       "0  29.0000      0      0     24160  211.3375       B5        S    2    NaN   \n",
       "1   0.9167      1      2    113781  151.5500  C22 C26        S   11    NaN   \n",
       "2   2.0000      1      2    113781  151.5500  C22 C26        S  NaN    NaN   \n",
       "3  30.0000      1      2    113781  151.5500  C22 C26        S  NaN  135.0   \n",
       "4  25.0000      1      2    113781  151.5500  C22 C26        S  NaN    NaN   \n",
       "5  48.0000      0      0     19952   26.5500      E12        S    3    NaN   \n",
       "6  63.0000      1      0     13502   77.9583       D7        S   10    NaN   \n",
       "7  39.0000      0      0    112050    0.0000      A36        S  NaN    NaN   \n",
       "8  53.0000      2      0     11769   51.4792     C101        S    D    NaN   \n",
       "9  71.0000      0      0  PC 17609   49.5042      NaN        C  NaN   22.0   \n",
       "\n",
       "                         home.dest  \n",
       "0                     St Louis, MO  \n",
       "1  Montreal, PQ / Chesterville, ON  \n",
       "2  Montreal, PQ / Chesterville, ON  \n",
       "3  Montreal, PQ / Chesterville, ON  \n",
       "4  Montreal, PQ / Chesterville, ON  \n",
       "5                     New York, NY  \n",
       "6                       Hudson, NY  \n",
       "7                      Belfast, NI  \n",
       "8              Bayside, Queens, NY  \n",
       "9              Montevideo, Uruguay  "
      ]
     },
     "execution_count": 25,
     "metadata": {},
     "output_type": "execute_result"
    }
   ],
   "source": [
    "#Use the “csv” module to read the Titanic dataset. Print the first 5 rows of the dataset\n",
    "import pandas as pd\n",
    "df = pd.read_csv (r\"C:\\Users\\USER\\Downloads\\TDI python week3 dataset(Titanic Analysis).csv\" )\n",
    "df.head(10)"
   ]
  },
  {
   "cell_type": "code",
   "execution_count": 47,
   "id": "8345fcb1-8cff-4064-985a-e174f32212e3",
   "metadata": {},
   "outputs": [
    {
     "name": "stdout",
     "output_type": "stream",
     "text": [
      "Total number of passengers: 1309\n"
     ]
    }
   ],
   "source": [
    "#After reading the Titanic CSV file, count the total number of passengers\n",
    "import pandas as pd\n",
    "df = pd.read_csv (r\"C:\\Users\\USER\\Downloads\\TDI python week3 dataset(Titanic Analysis).csv\" )\n",
    "name_count = len(df)\n",
    "print( 'Total number of passengers:' , name_count)"
   ]
  },
  {
   "cell_type": "code",
   "execution_count": 48,
   "id": "a82736f3-e049-46f4-94eb-b2a594d338b9",
   "metadata": {},
   "outputs": [
    {
     "name": "stdout",
     "output_type": "stream",
     "text": [
      "average fare paid: 33.29547928134557\n"
     ]
    }
   ],
   "source": [
    "#write a script that calculates the average fare paid by passengers\n",
    "import pandas as pd\n",
    "df = pd.read_csv (r\"C:\\UserS\\USER\\Downloads\\TDI python week3 dataset(Titanic Analysis).csv\" )\n",
    "fare_average = df['fare'].mean()\n",
    "print( 'average fare paid:' , fare_average)"
   ]
  },
  {
   "cell_type": "code",
   "execution_count": 54,
   "id": "961a5d6e-d201-4c4b-a267-befba7199ca2",
   "metadata": {},
   "outputs": [
    {
     "name": "stdout",
     "output_type": "stream",
     "text": [
      "pclass\n",
      "1    200\n",
      "2    119\n",
      "3    181\n",
      "Name: survived, dtype: int64\n"
     ]
    }
   ],
   "source": [
    "#Write a Python script that calculates the number of survivors per passenger class (1st, 2nd, and 3rd class).\n",
    "import pandas as pd\n",
    "df = pd.read_csv (r\"C:\\UserS\\USER\\Downloads\\TDI python week3 dataset(Titanic Analysis).csv\" )\n",
    "sur_by_class = df.groupby('pclass') ['survived'].sum()\n",
    "print(sur_by_class)"
   ]
  },
  {
   "cell_type": "code",
   "execution_count": 57,
   "id": "afde1774-df2b-419c-a679-46b38ec5448b",
   "metadata": {},
   "outputs": [
    {
     "name": "stdout",
     "output_type": "stream",
     "text": [
      "array: [10 15 20 25]\n"
     ]
    }
   ],
   "source": [
    "#Import the NumPy library and create a 1D array containing the following numbers: “[10, 15, 20, 25]”. Print the array.\n",
    "import numpy as np\n",
    "array = np.array([10, 15, 20, 25])\n",
    "print('array:', array )"
   ]
  },
  {
   "cell_type": "code",
   "execution_count": 58,
   "id": "8be83203-21dc-46d4-be96-4bede84bdd6f",
   "metadata": {},
   "outputs": [
    {
     "name": "stdout",
     "output_type": "stream",
     "text": [
      "after multiplication [20 30 40 50]\n"
     ]
    }
   ],
   "source": [
    " #multiply each element by 2 using the array\n",
    "import numpy as np\n",
    "array = np.array([10, 15, 20, 25])\n",
    "multiplied = array * 2\n",
    "print(\"after multiplication\" , multiplied)"
   ]
  },
  {
   "cell_type": "code",
   "execution_count": 60,
   "id": "4618693f-4a33-4d50-8d77-5e9b27d5c14e",
   "metadata": {},
   "outputs": [
    {
     "name": "stdout",
     "output_type": "stream",
     "text": [
      "after multiplication [ 5 10 15 20]\n"
     ]
    }
   ],
   "source": [
    ", Subtract 5 from each element using the array\n",
    "import numpy as np\n",
    "array = np.array([10, 15, 20, 25])\n",
    "subtract = array - 5\n",
    "print(\"after multiplication\" , subtract)"
   ]
  },
  {
   "cell_type": "code",
   "execution_count": 63,
   "id": "f5b06ab0-69ea-4005-b2de-ef78e99a41ed",
   "metadata": {},
   "outputs": [
    {
     "name": "stdout",
     "output_type": "stream",
     "text": [
      "2D Array:\n",
      " [[1 2 3]\n",
      " [4 5 6]\n",
      " [7 8 9]]\n"
     ]
    }
   ],
   "source": [
    " #Create a 2D NumPy array with shape (3, 3) using the following data: [1, 2, 3], [4, 5, 6], [7, 8, 9]]”\n",
    "arr2D= np.array([[1, 2, 3], [4, 5, 6], [7, 8, 9]])\n",
    "print(\"2D Array:\\n\", arr2D)\n"
   ]
  },
  {
   "cell_type": "code",
   "execution_count": 73,
   "id": "9b4be236-ba03-449c-8f49-097bbf7270fc",
   "metadata": {},
   "outputs": [
    {
     "name": "stdout",
     "output_type": "stream",
     "text": [
      "Min fare: 0.0\n",
      "Min fare: 512.3292\n",
      "Mean fare: 33.29547928134557\n"
     ]
    }
   ],
   "source": [
    "#Convert the \"Fare\" column of the Titanic dataset to a NumPy array and calculate:\n",
    "import pandas as pd\n",
    "df = pd.read_csv (r\"C:\\UserS\\USER\\Downloads\\TDI python week3 dataset(Titanic Analysis).csv\" )\n",
    "df = df.dropna(subset=['fare'])\n",
    "fare_array = df['fare'].to_numpy()\n",
    "min_fare =  fare_array.min()\n",
    "max_fare =  fare_array.max()\n",
    "mean_fare =  fare_array.mean()\n",
    "\n",
    "print (f\"Min fare: {min_fare}\")\n",
    "print (f\"Min fare: {max_fare}\")\n",
    "print (f\"Mean fare: {mean_fare}\")"
   ]
  },
  {
   "cell_type": "code",
   "execution_count": 4,
   "id": "4cc97ab9-66a9-48e5-a094-2acc40f7f0a3",
   "metadata": {},
   "outputs": [
    {
     "name": "stdout",
     "output_type": "stream",
     "text": [
      "First Row: [1 2 3]\n",
      "First Column: [1 4 7]\n"
     ]
    }
   ],
   "source": [
    "#Use array indexing to extract the first row and first column of the 2D array created earlier. Print the results\n",
    "import numpy as np\n",
    "arr2D= np.array([[1, 2, 3], [4, 5, 6], [7, 8, 9]])\n",
    "first_row = arr2D[0]\n",
    "first_column = arr2D[:, 0]\n",
    "print(\"First Row:\", first_row)\n",
    "print(\"First Column:\", first_column)\n"
   ]
  },
  {
   "cell_type": "code",
   "execution_count": 10,
   "id": "1c1091b5-a4f0-46fc-813b-c04c9bae260e",
   "metadata": {},
   "outputs": [
    {
     "name": "stdout",
     "output_type": "stream",
     "text": [
      "[0.83686281 0.70945549 0.61621402 0.24935377 0.55575923 0.64133839\n",
      " 0.15041941 0.03278469 0.30265123 0.11629483]\n",
      "max value: 0.8368628096641545\n"
     ]
    }
   ],
   "source": [
    "#Create a NumPy array with 10 random numbers between 0 and 1. Print the array and find the maximum value.\n",
    "import numpy as np\n",
    "array= np.random.rand(10)\n",
    "print(array)\n",
    "maxarray = array.max()\n",
    "print(f\"max value: {maxarray}\")"
   ]
  },
  {
   "cell_type": "code",
   "execution_count": 21,
   "id": "4745da69-1b0c-4dfc-ba28-c2b48ca0bd29",
   "metadata": {},
   "outputs": [
    {
     "name": "stdout",
     "output_type": "stream",
     "text": [
      "percentage: 38.19709702062643%\n"
     ]
    }
   ],
   "source": [
    "#Practice: Survivor Analysis with NumPy:\n",
    "import pandas as pd\n",
    "import numpy as np\n",
    "df = pd.read_csv (r\"C:\\UserS\\USER\\Downloads\\TDI python week3 dataset(Titanic Analysis).csv\" )\n",
    "survived_arr = df['survived'].to_numpy()\n",
    "survived_percentage = (survived_arr.sum() / survived_arr.size) * 100\n",
    "print(f\"percentage: {survived_percentage}%\")"
   ]
  },
  {
   "cell_type": "code",
   "execution_count": null,
   "id": "c3ed41a7-3b7f-4b02-9d76-c26c7eab293c",
   "metadata": {},
   "outputs": [],
   "source": []
  }
 ],
 "metadata": {
  "kernelspec": {
   "display_name": "Python 3 (ipykernel)",
   "language": "python",
   "name": "python3"
  },
  "language_info": {
   "codemirror_mode": {
    "name": "ipython",
    "version": 3
   },
   "file_extension": ".py",
   "mimetype": "text/x-python",
   "name": "python",
   "nbconvert_exporter": "python",
   "pygments_lexer": "ipython3",
   "version": "3.12.7"
  }
 },
 "nbformat": 4,
 "nbformat_minor": 5
}
